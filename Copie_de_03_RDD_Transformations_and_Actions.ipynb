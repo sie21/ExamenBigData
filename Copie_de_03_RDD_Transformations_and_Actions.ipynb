{
  "cells": [
    {
      "cell_type": "markdown",
      "metadata": {
        "id": "view-in-github",
        "colab_type": "text"
      },
      "source": [
        "<a href=\"https://colab.research.google.com/github/sie21/ExamenBigData/blob/master/Copie_de_03_RDD_Transformations_and_Actions.ipynb\" target=\"_parent\"><img src=\"https://colab.research.google.com/assets/colab-badge.svg\" alt=\"Open In Colab\"/></a>"
      ]
    },
    {
      "cell_type": "markdown",
      "metadata": {
        "id": "XPqFGIKPcFKV"
      },
      "source": [
        "# RDD Transformations and Actions\n",
        "\n",
        "In this lecture we will begin to delve deeper into using Spark and Python. Please view the video lecture for a full explanation.\n",
        "\n",
        "## Important Terms\n",
        "\n",
        "Let's quickly go over some important terms:\n",
        "\n",
        "Term                   |Definition\n",
        "----                   |-------\n",
        "RDD                    |Resilient Distributed Dataset\n",
        "Transformation         |Spark operation that produces an RDD\n",
        "Action                 |Spark operation that produces a local object\n",
        "Spark Job              |Sequence of transformations on data with a final action"
      ]
    },
    {
      "cell_type": "markdown",
      "metadata": {
        "id": "LmBhFC4HcFKa"
      },
      "source": [
        "## Creating an RDD\n",
        "\n",
        "There are two common ways to create an RDD:\n",
        "\n",
        "Method                      |Result\n",
        "----------                               |-------\n",
        "`sc.parallelize(array)`                  |Create RDD of elements of array (or list)\n",
        "`sc.textFile(path/to/file)`                      |Create RDD of lines from file"
      ]
    },
    {
      "cell_type": "markdown",
      "metadata": {
        "id": "KlQ5yyFVcFKb"
      },
      "source": [
        "## RDD Transformations\n",
        "\n",
        "We can use transformations to create a set of instructions we want to preform on the RDD (before we call an action and actually execute them).\n",
        "\n",
        "Transformation Example                          |Result\n",
        "----------                               |-------\n",
        "`filter(lambda x: x % 2 == 0)`           |Discard non-even elements\n",
        "`map(lambda x: x * 2)`                   |Multiply each RDD element by `2`\n",
        "`map(lambda x: x.split())`               |Split each string into words\n",
        "`flatMap(lambda x: x.split())`           |Split each string into words and flatten sequence\n",
        "`sample(withReplacement=True,0.25)`      |Create sample of 25% of elements with replacement\n",
        "`union(rdd)`                             |Append `rdd` to existing RDD\n",
        "`distinct()`                             |Remove duplicates in RDD\n",
        "`sortBy(lambda x: x, ascending=False)`   |Sort elements in descending order"
      ]
    },
    {
      "cell_type": "markdown",
      "metadata": {
        "id": "AzQuFnzxcFKc"
      },
      "source": [
        "## RDD Actions\n",
        "\n",
        "Once you have your 'recipe' of transformations ready, what you will do next is execute them by calling an action. Here are some common actions:\n",
        "\n",
        "Action                             |Result\n",
        "----------                             |-------\n",
        "`collect()`                            |Convert RDD to in-memory list \n",
        "`take(3)`                              |First 3 elements of RDD \n",
        "`top(3)`                               |Top 3 elements of RDD\n",
        "`takeSample(withReplacement=True,3)`   |Create sample of 3 elements with replacement\n",
        "`sum()`                                |Find element sum (assumes numeric elements)\n",
        "`mean()`                               |Find element mean (assumes numeric elements)\n",
        "`stdev()`                              |Find element deviation (assumes numeric elements)"
      ]
    },
    {
      "cell_type": "markdown",
      "metadata": {
        "id": "X2b9wmVycFKc"
      },
      "source": [
        "____\n",
        "# Examples\n",
        "\n",
        "Now the best way to show all of this is by going through examples! We'll first review a bit by creating and working with a simple text file, then we will move on to more realistic data, such as customers and sales data.\n",
        "\n",
        "### Creating an RDD from a text file:\n",
        "\n",
        "** Creating the textfile **"
      ]
    },
    {
      "cell_type": "code",
      "execution_count": null,
      "metadata": {
        "colab": {
          "base_uri": "https://localhost:8080/"
        },
        "id": "YYaLfftTcFKd",
        "outputId": "025c43d1-56bc-4efd-bdbd-66a06230e768"
      },
      "outputs": [
        {
          "output_type": "stream",
          "name": "stdout",
          "text": [
            "Writing example2.txt\n"
          ]
        }
      ],
      "source": [
        "%%writefile example2.txt\n",
        "first \n",
        "second line\n",
        "the third line\n",
        "then a fourth line"
      ]
    },
    {
      "cell_type": "markdown",
      "metadata": {
        "id": "SaZEvqQMcFKf"
      },
      "source": [
        "Now let's perform some transformations and actions on this text file:"
      ]
    },
    {
      "cell_type": "code",
      "execution_count": null,
      "metadata": {
        "collapsed": true,
        "id": "3B35bp78cFKf"
      },
      "outputs": [],
      "source": [
        "from pyspark import SparkContext"
      ]
    },
    {
      "cell_type": "code",
      "source": [
        "!pip install pyspark"
      ],
      "metadata": {
        "colab": {
          "base_uri": "https://localhost:8080/"
        },
        "id": "_N1WJlOQdZzr",
        "outputId": "82ea211f-0a75-485e-d6cb-f081d853db0c"
      },
      "execution_count": null,
      "outputs": [
        {
          "output_type": "stream",
          "name": "stdout",
          "text": [
            "Collecting pyspark\n",
            "  Downloading pyspark-3.2.0.tar.gz (281.3 MB)\n",
            "\u001b[K     |████████████████████████████████| 281.3 MB 37 kB/s \n",
            "\u001b[?25hCollecting py4j==0.10.9.2\n",
            "  Downloading py4j-0.10.9.2-py2.py3-none-any.whl (198 kB)\n",
            "\u001b[K     |████████████████████████████████| 198 kB 48.5 MB/s \n",
            "\u001b[?25hBuilding wheels for collected packages: pyspark\n",
            "  Building wheel for pyspark (setup.py) ... \u001b[?25l\u001b[?25hdone\n",
            "  Created wheel for pyspark: filename=pyspark-3.2.0-py2.py3-none-any.whl size=281805912 sha256=963ca483a0c9c46a541fa67bbd044d949b627c989f8755a0118844cc0e78a939\n",
            "  Stored in directory: /root/.cache/pip/wheels/0b/de/d2/9be5d59d7331c6c2a7c1b6d1a4f463ce107332b1ecd4e80718\n",
            "Successfully built pyspark\n",
            "Installing collected packages: py4j, pyspark\n",
            "Successfully installed py4j-0.10.9.2 pyspark-3.2.0\n"
          ]
        }
      ]
    },
    {
      "cell_type": "code",
      "execution_count": null,
      "metadata": {
        "collapsed": true,
        "id": "pZS_ITjgcFKg"
      },
      "outputs": [],
      "source": [
        "sc = SparkContext()"
      ]
    },
    {
      "cell_type": "code",
      "execution_count": null,
      "metadata": {
        "colab": {
          "base_uri": "https://localhost:8080/"
        },
        "id": "QAGwr2MucFKh",
        "outputId": "f86ef083-59fc-4ffc-932c-bd8975d8c516"
      },
      "outputs": [
        {
          "output_type": "execute_result",
          "data": {
            "text/plain": [
              "example2.txt MapPartitionsRDD[1] at textFile at NativeMethodAccessorImpl.java:0"
            ]
          },
          "metadata": {},
          "execution_count": 8
        }
      ],
      "source": [
        "# Show RDD\n",
        "sc.textFile('example2.txt')"
      ]
    },
    {
      "cell_type": "code",
      "execution_count": null,
      "metadata": {
        "collapsed": true,
        "id": "ZtaQ4sgdcFKi"
      },
      "outputs": [],
      "source": [
        "# Save a reference to this RDD\n",
        "text_rdd = sc.textFile('example2.txt')"
      ]
    },
    {
      "cell_type": "code",
      "execution_count": null,
      "metadata": {
        "colab": {
          "base_uri": "https://localhost:8080/"
        },
        "id": "LAHHsT83cFKi",
        "outputId": "91bf354d-706a-458d-aa5e-4a78d77381d0"
      },
      "outputs": [
        {
          "output_type": "execute_result",
          "data": {
            "text/plain": [
              "[['first'],\n",
              " ['second', 'line'],\n",
              " ['the', 'third', 'line'],\n",
              " ['then', 'a', 'fourth', 'line']]"
            ]
          },
          "metadata": {},
          "execution_count": 10
        }
      ],
      "source": [
        "# Map a function (or lambda expression) to each line\n",
        "# Then collect the results.\n",
        "text_rdd.map(lambda line: line.split()).collect()"
      ]
    },
    {
      "cell_type": "markdown",
      "metadata": {
        "id": "Z8zwjz5WcFKi"
      },
      "source": [
        "## Map vs flatMap"
      ]
    },
    {
      "cell_type": "code",
      "execution_count": null,
      "metadata": {
        "colab": {
          "base_uri": "https://localhost:8080/"
        },
        "id": "Wz99OhuGcFKj",
        "outputId": "bf6eb727-948a-42b7-badb-324044dff42b"
      },
      "outputs": [
        {
          "output_type": "execute_result",
          "data": {
            "text/plain": [
              "['first',\n",
              " 'second',\n",
              " 'line',\n",
              " 'the',\n",
              " 'third',\n",
              " 'line',\n",
              " 'then',\n",
              " 'a',\n",
              " 'fourth',\n",
              " 'line']"
            ]
          },
          "metadata": {},
          "execution_count": 11
        }
      ],
      "source": [
        "# Collect everything as a single flat map\n",
        "text_rdd.flatMap(lambda line: line.split()).collect()"
      ]
    },
    {
      "cell_type": "markdown",
      "metadata": {
        "id": "-Rt7OprccFKj"
      },
      "source": [
        "# RDDs and Key Value Pairs\n",
        "\n",
        "Now that we've worked with RDDs and how to aggregate values with them, we can begin to look into working with Key Value Pairs. In order to do this, let's create some fake data as a new text file.\n",
        "\n",
        "This data represents some services sold to customers for some SAAS business."
      ]
    },
    {
      "cell_type": "code",
      "execution_count": null,
      "metadata": {
        "colab": {
          "base_uri": "https://localhost:8080/"
        },
        "id": "DRkIvXyAcFKj",
        "outputId": "6f0110f1-758c-49d0-8c9e-b13c945c00ae"
      },
      "outputs": [
        {
          "output_type": "stream",
          "name": "stdout",
          "text": [
            "Writing services.txt\n"
          ]
        }
      ],
      "source": [
        "%%writefile services.txt\n",
        "#EventId    Timestamp    Customer   State    ServiceID    Amount\n",
        "201       10/13/2017      100       NY       131          100.00\n",
        "204       10/18/2017      700       TX       129          450.00\n",
        "202       10/15/2017      203       CA       121          200.00\n",
        "206       10/19/2017      202       CA       131          500.00\n",
        "203       10/17/2017      101       NY       173          750.00\n",
        "205       10/19/2017      202       TX       121          200.00"
      ]
    },
    {
      "cell_type": "code",
      "execution_count": null,
      "metadata": {
        "collapsed": true,
        "id": "zG6IDNU6cFKk"
      },
      "outputs": [],
      "source": [
        "services = sc.textFile('services.txt')"
      ]
    },
    {
      "cell_type": "code",
      "execution_count": null,
      "metadata": {
        "colab": {
          "base_uri": "https://localhost:8080/"
        },
        "id": "L3dJq13EcFKk",
        "outputId": "2560daee-bf74-4e24-8254-5d1c29e1bf9a"
      },
      "outputs": [
        {
          "output_type": "execute_result",
          "data": {
            "text/plain": [
              "['#EventId    Timestamp    Customer   State    ServiceID    Amount',\n",
              " '201       10/13/2017      100       NY       131          100.00']"
            ]
          },
          "metadata": {},
          "execution_count": 14
        }
      ],
      "source": [
        "services.take(2)"
      ]
    },
    {
      "cell_type": "code",
      "execution_count": null,
      "metadata": {
        "colab": {
          "base_uri": "https://localhost:8080/"
        },
        "id": "j12sWtRhcFKk",
        "outputId": "c8e40f0f-06a1-4f3d-f4ab-069fd23eee12"
      },
      "outputs": [
        {
          "output_type": "execute_result",
          "data": {
            "text/plain": [
              "PythonRDD[9] at RDD at PythonRDD.scala:53"
            ]
          },
          "metadata": {},
          "execution_count": 15
        }
      ],
      "source": [
        "services.map(lambda x: x.split())"
      ]
    },
    {
      "cell_type": "code",
      "execution_count": null,
      "metadata": {
        "colab": {
          "base_uri": "https://localhost:8080/"
        },
        "id": "TGOwYGxdcFKl",
        "outputId": "23ac8ce7-ede1-45cf-efe9-310ab7fd61f1"
      },
      "outputs": [
        {
          "output_type": "execute_result",
          "data": {
            "text/plain": [
              "[['#EventId', 'Timestamp', 'Customer', 'State', 'ServiceID', 'Amount'],\n",
              " ['201', '10/13/2017', '100', 'NY', '131', '100.00'],\n",
              " ['204', '10/18/2017', '700', 'TX', '129', '450.00']]"
            ]
          },
          "metadata": {},
          "execution_count": 17
        }
      ],
      "source": [
        "services.map(lambda x: x.split()).take(3)"
      ]
    },
    {
      "cell_type": "markdown",
      "metadata": {
        "id": "Zkm7G3uycFKl"
      },
      "source": [
        "Let's remove that first hash-tag!"
      ]
    },
    {
      "cell_type": "code",
      "execution_count": null,
      "metadata": {
        "colab": {
          "base_uri": "https://localhost:8080/"
        },
        "id": "RNzUchDjcFKl",
        "outputId": "047256e4-12d6-4e15-f77a-1aff3246e871"
      },
      "outputs": [
        {
          "output_type": "execute_result",
          "data": {
            "text/plain": [
              "['EventId    Timestamp    Customer   State    ServiceID    Amount',\n",
              " '201       10/13/2017      100       NY       131          100.00',\n",
              " '204       10/18/2017      700       TX       129          450.00',\n",
              " '202       10/15/2017      203       CA       121          200.00',\n",
              " '206       10/19/2017      202       CA       131          500.00',\n",
              " '203       10/17/2017      101       NY       173          750.00',\n",
              " '205       10/19/2017      202       TX       121          200.00']"
            ]
          },
          "metadata": {},
          "execution_count": 18
        }
      ],
      "source": [
        "services.map(lambda x: x[1:] if x[0]=='#' else x).collect()"
      ]
    },
    {
      "cell_type": "code",
      "execution_count": null,
      "metadata": {
        "colab": {
          "base_uri": "https://localhost:8080/"
        },
        "id": "Cy5SEqMqcFKm",
        "outputId": "7b181950-0844-478e-b09e-d8e4888639e9"
      },
      "outputs": [
        {
          "output_type": "execute_result",
          "data": {
            "text/plain": [
              "[['EventId', 'Timestamp', 'Customer', 'State', 'ServiceID', 'Amount'],\n",
              " ['201', '10/13/2017', '100', 'NY', '131', '100.00'],\n",
              " ['204', '10/18/2017', '700', 'TX', '129', '450.00'],\n",
              " ['202', '10/15/2017', '203', 'CA', '121', '200.00'],\n",
              " ['206', '10/19/2017', '202', 'CA', '131', '500.00'],\n",
              " ['203', '10/17/2017', '101', 'NY', '173', '750.00'],\n",
              " ['205', '10/19/2017', '202', 'TX', '121', '200.00']]"
            ]
          },
          "metadata": {},
          "execution_count": 19
        }
      ],
      "source": [
        "services.map(lambda x: x[1:] if x[0]=='#' else x).map(lambda x: x.split()).collect()"
      ]
    },
    {
      "cell_type": "markdown",
      "metadata": {
        "id": "Vl-LP0i4cFKm"
      },
      "source": [
        "## Using Key Value Pairs for Operations\n",
        "\n",
        "Let us now begin to use methods that combine lambda expressions that use a ByKey argument. These ByKey methods will assume that your data is in a Key,Value form. \n",
        "\n",
        "\n",
        "For example let's find out the total sales per state: "
      ]
    },
    {
      "cell_type": "code",
      "execution_count": null,
      "metadata": {
        "collapsed": true,
        "id": "9wJvGIxBcFKm"
      },
      "outputs": [],
      "source": [
        "# From Previous\n",
        "cleanServ = services.map(lambda x: x[1:] if x[0]=='#' else x).map(lambda x: x.split())"
      ]
    },
    {
      "cell_type": "code",
      "execution_count": null,
      "metadata": {
        "colab": {
          "base_uri": "https://localhost:8080/"
        },
        "id": "TC0Y0Q-ycFKn",
        "outputId": "71c3171d-de4f-4617-8d6f-f17b1d28727f"
      },
      "outputs": [
        {
          "output_type": "execute_result",
          "data": {
            "text/plain": [
              "[['EventId', 'Timestamp', 'Customer', 'State', 'ServiceID', 'Amount'],\n",
              " ['201', '10/13/2017', '100', 'NY', '131', '100.00'],\n",
              " ['204', '10/18/2017', '700', 'TX', '129', '450.00'],\n",
              " ['202', '10/15/2017', '203', 'CA', '121', '200.00'],\n",
              " ['206', '10/19/2017', '202', 'CA', '131', '500.00'],\n",
              " ['203', '10/17/2017', '101', 'NY', '173', '750.00'],\n",
              " ['205', '10/19/2017', '202', 'TX', '121', '200.00']]"
            ]
          },
          "metadata": {},
          "execution_count": 21
        }
      ],
      "source": [
        "cleanServ.collect()"
      ]
    },
    {
      "cell_type": "code",
      "execution_count": null,
      "metadata": {
        "colab": {
          "base_uri": "https://localhost:8080/"
        },
        "id": "r6tj3yJscFKn",
        "outputId": "cc06fcf1-cbcf-4319-c8ab-e2d45d189cd2"
      },
      "outputs": [
        {
          "output_type": "execute_result",
          "data": {
            "text/plain": [
              "[('State', 'Amount'),\n",
              " ('NY', '100.00'),\n",
              " ('TX', '450.00'),\n",
              " ('CA', '200.00'),\n",
              " ('CA', '500.00'),\n",
              " ('NY', '750.00'),\n",
              " ('TX', '200.00')]"
            ]
          },
          "metadata": {},
          "execution_count": 22
        }
      ],
      "source": [
        "# Let's start by practicing grabbing fields\n",
        "cleanServ.map(lambda lst: (lst[3],lst[-1])).collect()"
      ]
    },
    {
      "cell_type": "code",
      "source": [
        "cleanServ.map(lambda lst: (lst[-1],lst[3])).collect()"
      ],
      "metadata": {
        "colab": {
          "base_uri": "https://localhost:8080/"
        },
        "id": "SA2FDAXGioGk",
        "outputId": "a9ba7f04-4508-47b2-b7ab-6152d4f9d5a9"
      },
      "execution_count": null,
      "outputs": [
        {
          "output_type": "execute_result",
          "data": {
            "text/plain": [
              "[('Amount', 'State'),\n",
              " ('100.00', 'NY'),\n",
              " ('450.00', 'TX'),\n",
              " ('200.00', 'CA'),\n",
              " ('500.00', 'CA'),\n",
              " ('750.00', 'NY'),\n",
              " ('200.00', 'TX')]"
            ]
          },
          "metadata": {},
          "execution_count": 24
        }
      ]
    },
    {
      "cell_type": "code",
      "source": [
        "cleanServ.map(lambda lst: (lst[-1],lst[3]))\\\n",
        "         .reduceByKey(lambda amt1,amt2 : amt1+amt2)\\\n",
        "         .collect()"
      ],
      "metadata": {
        "colab": {
          "base_uri": "https://localhost:8080/"
        },
        "id": "hTbVwj-pjDZC",
        "outputId": "229ab7a4-da25-404e-b3c6-0b7ddc7f1b74"
      },
      "execution_count": null,
      "outputs": [
        {
          "output_type": "execute_result",
          "data": {
            "text/plain": [
              "[('100.00', 'NY'),\n",
              " ('450.00', 'TX'),\n",
              " ('200.00', 'CATX'),\n",
              " ('500.00', 'CA'),\n",
              " ('Amount', 'State'),\n",
              " ('750.00', 'NY')]"
            ]
          },
          "metadata": {},
          "execution_count": 26
        }
      ]
    },
    {
      "cell_type": "code",
      "execution_count": null,
      "metadata": {
        "colab": {
          "base_uri": "https://localhost:8080/"
        },
        "id": "x8gCKw5BcFKo",
        "outputId": "c03f332f-4657-4691-d897-f91cd3de84b9"
      },
      "outputs": [
        {
          "output_type": "execute_result",
          "data": {
            "text/plain": [
              "[('State', 'Amount'),\n",
              " ('NY', '100.00750.00'),\n",
              " ('TX', '450.00200.00'),\n",
              " ('CA', '200.00500.00')]"
            ]
          },
          "metadata": {},
          "execution_count": 23
        }
      ],
      "source": [
        "# Continue with reduceByKey\n",
        "# Notice how it assumes that the first item is the key!\n",
        "cleanServ.map(lambda lst: (lst[3],lst[-1]))\\\n",
        "         .reduceByKey(lambda amt1,amt2 : amt1+amt2)\\\n",
        "         .collect()"
      ]
    },
    {
      "cell_type": "markdown",
      "metadata": {
        "id": "kcZBHlbncFKo"
      },
      "source": [
        "Uh oh! Looks like we forgot that the amounts are still strings! Let's fix that:"
      ]
    },
    {
      "cell_type": "code",
      "execution_count": null,
      "metadata": {
        "colab": {
          "base_uri": "https://localhost:8080/"
        },
        "id": "jKGdp_wJcFKo",
        "outputId": "5f7edc6a-c664-4ff1-fa10-fdaf9e107205"
      },
      "outputs": [
        {
          "output_type": "execute_result",
          "data": {
            "text/plain": [
              "[('State', 'Amount'), ('NY', 850.0), ('TX', 650.0), ('CA', 700.0)]"
            ]
          },
          "metadata": {},
          "execution_count": 27
        }
      ],
      "source": [
        "# Continue with reduceByKey\n",
        "# Notice how it assumes that the first item is the key!\n",
        "cleanServ.map(lambda lst: (lst[3],lst[-1]))\\\n",
        "         .reduceByKey(lambda amt1,amt2 : float(amt1)+float(amt2))\\\n",
        "         .collect()"
      ]
    },
    {
      "cell_type": "markdown",
      "metadata": {
        "id": "RI1GKisccFKp"
      },
      "source": [
        "We can continue our analysis by sorting this output:"
      ]
    },
    {
      "cell_type": "code",
      "execution_count": null,
      "metadata": {
        "colab": {
          "base_uri": "https://localhost:8080/"
        },
        "id": "PwWYRkwRcFKp",
        "outputId": "42a0e2ed-dc4f-42dc-d5b1-bf80503f963b"
      },
      "outputs": [
        {
          "output_type": "execute_result",
          "data": {
            "text/plain": [
              "[('NY', 850.0), ('CA', 700.0), ('TX', 650.0)]"
            ]
          },
          "metadata": {},
          "execution_count": 29
        }
      ],
      "source": [
        "# Grab state and amounts\n",
        "# Add them\n",
        "# Get rid of ('State','Amount')\n",
        "# Sort them by the amount value\n",
        "cleanServ.map(lambda lst: (lst[3],lst[-1]))\\\n",
        ".reduceByKey(lambda amt1,amt2 : float(amt1)+float(amt2))\\\n",
        ".filter(lambda x: not x[0]=='State')\\\n",
        ".sortBy(lambda stateAmount: stateAmount[1], ascending=False)\\\n",
        ".collect()"
      ]
    },
    {
      "cell_type": "markdown",
      "metadata": {
        "id": "oXXHWjgbcFKp"
      },
      "source": [
        "** Remember to try to use unpacking for readability. For example: **"
      ]
    },
    {
      "cell_type": "code",
      "execution_count": null,
      "metadata": {
        "id": "Z2xVU9dQcFKq"
      },
      "outputs": [],
      "source": [
        "x = ['ID','State','Amount']"
      ]
    },
    {
      "cell_type": "code",
      "execution_count": null,
      "metadata": {
        "collapsed": true,
        "id": "zISEsG9RcFKq"
      },
      "outputs": [],
      "source": [
        "def func1(lst):\n",
        "    return lst[-1]"
      ]
    },
    {
      "cell_type": "code",
      "execution_count": null,
      "metadata": {
        "id": "9a95ToZbcFKq"
      },
      "outputs": [],
      "source": [
        "def func2(id_st_amt):\n",
        "    # Unpack Values\n",
        "    (Id,st,amt) = id_st_amt\n",
        "    return amt"
      ]
    },
    {
      "cell_type": "code",
      "execution_count": null,
      "metadata": {
        "id": "Txt1-W6tcFKq",
        "outputId": "42bd414f-599d-4ff7-8ab0-f07bb76c5937"
      },
      "outputs": [
        {
          "data": {
            "text/plain": [
              "'Amount'"
            ]
          },
          "execution_count": 84,
          "metadata": {},
          "output_type": "execute_result"
        }
      ],
      "source": [
        "func1(x)"
      ]
    },
    {
      "cell_type": "code",
      "execution_count": null,
      "metadata": {
        "id": "HPHPA6r0cFKq",
        "outputId": "b9f1dbe8-62bf-4acd-b2ed-4aa74a5a0a98"
      },
      "outputs": [
        {
          "data": {
            "text/plain": [
              "'Amount'"
            ]
          },
          "execution_count": 85,
          "metadata": {},
          "output_type": "execute_result"
        }
      ],
      "source": [
        "func2(x)"
      ]
    },
    {
      "cell_type": "code",
      "source": [
        "import os"
      ],
      "metadata": {
        "id": "k996Y6FfmrBU"
      },
      "execution_count": 2,
      "outputs": []
    },
    {
      "cell_type": "code",
      "source": [
        "import datetime"
      ],
      "metadata": {
        "id": "5g3TDrFEnPNH"
      },
      "execution_count": 5,
      "outputs": []
    },
    {
      "cell_type": "code",
      "source": [
        ""
      ],
      "metadata": {
        "id": "JJcdyPf-mYKR"
      },
      "execution_count": 7,
      "outputs": []
    },
    {
      "cell_type": "markdown",
      "metadata": {
        "id": "E5OTxp7qcFKr"
      },
      "source": [
        "# Great Job!"
      ]
    }
  ],
  "metadata": {
    "kernelspec": {
      "display_name": "Python 3",
      "language": "python",
      "name": "python3"
    },
    "language_info": {
      "codemirror_mode": {
        "name": "ipython",
        "version": 3
      },
      "file_extension": ".py",
      "mimetype": "text/x-python",
      "name": "python",
      "nbconvert_exporter": "python",
      "pygments_lexer": "ipython3",
      "version": "3.5.1"
    },
    "colab": {
      "name": "Copie de 03-RDD Transformations and Actions.ipynb",
      "provenance": [],
      "collapsed_sections": [],
      "include_colab_link": true
    }
  },
  "nbformat": 4,
  "nbformat_minor": 0
}